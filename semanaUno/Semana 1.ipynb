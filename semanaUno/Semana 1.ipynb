{
 "cells": [
  {
   "cell_type": "markdown",
   "metadata": {},
   "source": [
    "# Semana Uno\n",
    "\n",
    "En esta semana se introdujeron conceptos de programación y recursividad.\n",
    "\n",
    "Luego se presentó una solución para fibonacci usando recursividad y se presentó la técnica de programación dinámica.\n",
    "\n",
    "Se implementó fibonacci con dos enfoques programación dinámica: top - down y bottom up.\n"
   ]
  },
  {
   "cell_type": "code",
   "execution_count": 1,
   "metadata": {
    "collapsed": true
   },
   "outputs": [],
   "source": [
    "def fib(n):\n",
    "  if n == 0:\n",
    "    return 0\n",
    "  if n == 1:\n",
    "    return 1\n",
    "  return fib(n - 1) + fib(n - 2)\n"
   ]
  },
  {
   "cell_type": "code",
   "execution_count": 2,
   "metadata": {
    "collapsed": false
   },
   "outputs": [
    {
     "data": {
      "text/plain": [
       "[0, 1, 1, 2, 3, 5, 8, 13, 21, 34]"
      ]
     },
     "execution_count": 2,
     "metadata": {},
     "output_type": "execute_result"
    }
   ],
   "source": [
    "[fib(i) for i in range(10)]"
   ]
  },
  {
   "cell_type": "code",
   "execution_count": 3,
   "metadata": {
    "collapsed": false
   },
   "outputs": [],
   "source": [
    "def fibpd(n):\n",
    "  fibn = []\n",
    "  for i in range(n):\n",
    "    if i == 0:\n",
    "      fibn.append(0)\n",
    "    elif i == 1:\n",
    "      fibn.append(1)\n",
    "    else: \n",
    "      fibn.append(fibn[i - 1] + fibn[i - 2])\n",
    "  return fibn[n-1]"
   ]
  },
  {
   "cell_type": "code",
   "execution_count": 4,
   "metadata": {
    "collapsed": false
   },
   "outputs": [
    {
     "data": {
      "text/plain": [
       "34"
      ]
     },
     "execution_count": 4,
     "metadata": {},
     "output_type": "execute_result"
    }
   ],
   "source": [
    "fibpd(10)"
   ]
  },
  {
   "cell_type": "code",
   "execution_count": 5,
   "metadata": {
    "collapsed": false
   },
   "outputs": [],
   "source": [
    "G = [60,100,120]\n",
    "V = [10, 20, 30]\n",
    "M = 50\n",
    "\n",
    "def mochila(V,G,m,g,n):\n",
    "  if n == 0 or m == 0:\n",
    "    return 0\n",
    "  else:\n",
    "    if V[n-1] > m:\n",
    "      return mochila(V,G,m,g,n-1)\n",
    "    else:\n",
    "      return max(mochila(V,G,m-V[n-1],g,n-1) + G[n-1], mochila(V,G,m,g,n-1))\n",
    "    "
   ]
  },
  {
   "cell_type": "code",
   "execution_count": 6,
   "metadata": {
    "collapsed": false
   },
   "outputs": [
    {
     "data": {
      "text/plain": [
       "220"
      ]
     },
     "execution_count": 6,
     "metadata": {},
     "output_type": "execute_result"
    }
   ],
   "source": [
    "mochila(V,G,M,0,3)"
   ]
  },
  {
   "cell_type": "code",
   "execution_count": 7,
   "metadata": {
    "collapsed": false
   },
   "outputs": [],
   "source": [
    "def mochilaPDBU(V,G,m,g,n):\n",
    "  matriz = [[0 for x in range(n+1)] for y in range(m+1)] \n",
    "  for i in range(m+1):\n",
    "    for j in range(n+1):\n",
    "      if i == 0 or j == 0:\n",
    "        matriz[i][j] = 0\n",
    "      else:\n",
    "        if V[j-1] > i:\n",
    "          matriz[i][j] = matriz[i][j-1]\n",
    "        else:\n",
    "          matriz[i][j] = max(matriz[i-V[j-1]][j-1] + G[j-1], matriz[i][j-1])\n",
    "  return matriz[m][n]\n"
   ]
  },
  {
   "cell_type": "code",
   "execution_count": 8,
   "metadata": {
    "collapsed": false
   },
   "outputs": [
    {
     "data": {
      "text/plain": [
       "220"
      ]
     },
     "execution_count": 8,
     "metadata": {},
     "output_type": "execute_result"
    }
   ],
   "source": [
    "mochilaPDBU(V,G,M,0,3)"
   ]
  },
  {
   "cell_type": "code",
   "execution_count": 54,
   "metadata": {
    "collapsed": false
   },
   "outputs": [],
   "source": [
    "def sumaN(N, C, i, j):\n",
    "  if j == 0:\n",
    "    if i == 0:\n",
    "      return 1\n",
    "    else:\n",
    "      return 0\n",
    "  else:\n",
    "    return max(sumaN(N,C, i, j-1), sumaN(N,C, i - C[j-1], j - 1))\n"
   ]
  },
  {
   "cell_type": "code",
   "execution_count": 55,
   "metadata": {
    "collapsed": false
   },
   "outputs": [
    {
     "data": {
      "text/plain": [
       "1"
      ]
     },
     "execution_count": 55,
     "metadata": {},
     "output_type": "execute_result"
    }
   ],
   "source": [
    "sumaN(10, [4,3,2,1], 10, 4)"
   ]
  },
  {
   "cell_type": "code",
   "execution_count": 56,
   "metadata": {
    "collapsed": false
   },
   "outputs": [
    {
     "data": {
      "text/plain": [
       "0"
      ]
     },
     "execution_count": 56,
     "metadata": {},
     "output_type": "execute_result"
    }
   ],
   "source": [
    "sumaN(10, [4,3,2], 10, 3)"
   ]
  },
  {
   "cell_type": "code",
   "execution_count": 479,
   "metadata": {
    "collapsed": false
   },
   "outputs": [],
   "source": [
    "def sumaNBU(N, C):\n",
    "  cuantos = len(C)\n",
    "  s = 0\n",
    "  M = [[ 0 for x in range(N+1)] for y in range(cuantos+1)]\n",
    "\n",
    "  for i in range(cuantos+1):\n",
    "    M[i][0] = 1\n",
    "\n",
    "  for j in range(1,N+1):\n",
    "    for i in range(1,cuantos+1):\n",
    "      if C[i-1] > j:\n",
    "        M[i][j] = M[i-1][j]\n",
    "      else:\n",
    "        M[i][j] = max(M[i-1][j-C[i-1]],M[i-1][j])\n",
    "\n",
    "  for j in range(N+1):\n",
    "    s = \"\"\n",
    "    for i in range(cuantos+1):\n",
    "      s += \" %d \" % M[i][j]\n",
    "    print \"%s\\n\"%s\n",
    "        \n",
    "  return M[cuantos][N]"
   ]
  },
  {
   "cell_type": "code",
   "execution_count": 488,
   "metadata": {
    "collapsed": false
   },
   "outputs": [
    {
     "name": "stdout",
     "output_type": "stream",
     "text": [
      " 1  1  1  1  1 \n",
      "\n",
      " 0  0  0  1  1 \n",
      "\n",
      " 0  1  1  1  1 \n",
      "\n",
      " 0  0  0  1  1 \n",
      "\n"
     ]
    },
    {
     "data": {
      "text/plain": [
       "1"
      ]
     },
     "execution_count": 488,
     "metadata": {},
     "output_type": "execute_result"
    }
   ],
   "source": [
    "#sumaNBU(7,[4,3,2,1])\n",
    "sumaNBU(3, [2,5,1,9])"
   ]
  },
  {
   "cell_type": "code",
   "execution_count": 492,
   "metadata": {
    "collapsed": false
   },
   "outputs": [
    {
     "name": "stdout",
     "output_type": "stream",
     "text": [
      " 1  1  1  1  1  1 \n",
      "\n",
      " 0  0  0  0  0  0 \n",
      "\n",
      " 0  0  0  0  0  0 \n",
      "\n",
      " 0  0  1  1  1  1 \n",
      "\n",
      " 0  0  0  1  1  1 \n",
      "\n",
      " 0  0  0  0  0  0 \n",
      "\n",
      " 0  0  0  0  0  1 \n",
      "\n",
      " 0  0  0  1  1  1 \n",
      "\n",
      " 0  1  1  1  1  1 \n",
      "\n",
      " 0  0  0  0  0  0 \n",
      "\n",
      " 0  0  0  0  0  1 \n",
      "\n",
      " 0  0  1  1  1  1 \n",
      "\n",
      " 0  0  0  1  1  1 \n",
      "\n",
      " 0  0  0  0  0  0 \n",
      "\n"
     ]
    },
    {
     "data": {
      "text/plain": [
       "0"
      ]
     },
     "execution_count": 492,
     "metadata": {},
     "output_type": "execute_result"
    }
   ],
   "source": [
    "sumaNBU(13, [8,3,4,11,3])"
   ]
  },
  {
   "cell_type": "markdown",
   "metadata": {},
   "source": [
    "Para x de 0 a n\n",
    "  Para y de 0 a n\n",
    "\tSi x=0 o y=0\n",
    "  \tL[x,y] = 0\n",
    "\tSi no\n",
    "  \tSi v[x] = w[y]\n",
    "     \tL[x,y] = max(L[x-1,y-1], L[x-1,y], L[x,y-1])\n",
    "  \tSi no\n",
    "     \tL[x,y] = max(L[x-1,y], L[x,y-1])\n"
   ]
  },
  {
   "cell_type": "code",
   "execution_count": 545,
   "metadata": {
    "collapsed": false
   },
   "outputs": [],
   "source": [
    "def longitudAlineamiento(v,w):\n",
    "  m = len(v)\n",
    "  n = len(w)\n",
    "  \n",
    "  M = [[ 0 for x in range(n+1)] for y in range(m+1)]\n",
    "\n",
    "  for j in range(n+1):\n",
    "    for i in range(m+1):\n",
    "      if j == 0 or i == 0:\n",
    "        M[i][j] = 0\n",
    "      else:\n",
    "        if v[i-1] == w[j-1]:\n",
    "          M[i][j] = max(M[i-1][j-1]+1, M[i][j-1], M[i-1][j])\n",
    "        else:\n",
    "          M[i][j] = max(M[i][j-1], M[i-1][j])\n",
    "\n",
    "  for j in range(n+1):\n",
    "    s = \"\"\n",
    "    for i in range(m+1):\n",
    "      s += \" %d \" % M[i][j]\n",
    "    print \"%s\\n\"%s\n",
    "  \n",
    "  return M[m][n]"
   ]
  },
  {
   "cell_type": "code",
   "execution_count": 547,
   "metadata": {
    "collapsed": false
   },
   "outputs": [
    {
     "name": "stdout",
     "output_type": "stream",
     "text": [
      " 0  0  0  0  0  0  0  0  0  0 \n",
      "\n",
      " 0  1  1  1  1  1  1  1  1  1 \n",
      "\n",
      " 0  1  2  2  2  2  2  2  2  2 \n",
      "\n",
      " 0  1  2  3  3  3  3  3  3  3 \n",
      "\n",
      " 0  1  2  3  3  3  3  3  4  4 \n",
      "\n"
     ]
    },
    {
     "data": {
      "text/plain": [
       "4"
      ]
     },
     "execution_count": 547,
     "metadata": {},
     "output_type": "execute_result"
    }
   ],
   "source": [
    "longitudAlineamiento(\"cgacgacta\",\"cgat\") # deberíamos obtener un 4"
   ]
  },
  {
   "cell_type": "code",
   "execution_count": 14,
   "metadata": {
    "collapsed": false
   },
   "outputs": [],
   "source": [
    "def alineamiento(v,w):\n",
    "  m = len(v)\n",
    "  n = len(w)\n",
    "  \n",
    "  M = [[ 0 for x in range(n+1)] for y in range(m+1)]\n",
    "  N = [[ 0 for x in range(n+1)] for y in range(m+1)]\n",
    "\n",
    "  for j in range(n+1):\n",
    "    for i in range(m+1):\n",
    "      if j == 0 or i == 0:\n",
    "        M[i][j] = 0\n",
    "        N[i][j] = (0,0)\n",
    "      else:\n",
    "        if v[i-1] == w[j-1]:\n",
    "          M[i][j] = max(M[i-1][j-1]+1, M[i][j-1], M[i-1][j])\n",
    "          if (M[i][j] == M[i-1][j-1]+1):\n",
    "            N[i][j] = (i-1,j-1)\n",
    "          elif M[i][j] == M[i][j-1]:\n",
    "            N[i][j] = (i,j-1)\n",
    "          else:\n",
    "            N[i][j] = (i-1,j)\n",
    "        else:\n",
    "          M[i][j] = max(M[i][j-1], M[i-1][j])\n",
    "          if M[i][j] == M[i][j-1]:\n",
    "            N[i][j] = (i,j-1)\n",
    "          else:\n",
    "            N[i][j] = (i-1,j)\n",
    "  \n",
    "  alineadas = [[],[]]\n",
    "  ultI = m-1\n",
    "  ultJ = n-1\n",
    "  seguridad = 0\n",
    "  while ((ultI >= 0 or ultJ >= 0) and seguridad < 10):\n",
    "    t = N[i][j]\n",
    "\n",
    "    i = t[0]\n",
    "    j = t[1]\n",
    "\n",
    "    while ultI >= i:\n",
    "#      print \"v:%s\"%v[ultI]\n",
    "      alineadas[0].insert(0, v[ultI])\n",
    "      alineadas[1].insert(0, '-')\n",
    "      ultI = ultI - 1\n",
    "    \n",
    "    while ultJ >= j:\n",
    "#      print \"w:%s\"%w[ultJ]\n",
    "      alineadas[0].insert(0, '-')\n",
    "      alineadas[1].insert(0, w[ultJ])\n",
    "      ultJ = ultJ - 1\n",
    "    \n",
    "    if (v[ultI] == w[ultJ]):\n",
    "      alineadas[0].insert(0, v[ultI])\n",
    "      alineadas[1].insert(0, w[ultJ])\n",
    "      ultI = ultI - 1\n",
    "      ultJ = ultJ - 1\n",
    "    \n",
    "    seguridad = seguridad + 1\n",
    "\n",
    "  return alineadas"
   ]
  },
  {
   "cell_type": "code",
   "execution_count": 19,
   "metadata": {
    "collapsed": false
   },
   "outputs": [
    {
     "data": {
      "text/plain": [
       "[['a', 'c', 'g', 't', 'a', 'c', 'g', 'a', 'c', 't', '-', 'a'],\n",
       " ['a', '-', '-', '-', '-', '-', '-', '-', '-', 't', 'a', '-']]"
      ]
     },
     "execution_count": 19,
     "metadata": {},
     "output_type": "execute_result"
    }
   ],
   "source": [
    "alineamiento( \"cgtacgacta\", \"ta\")"
   ]
  },
  {
   "cell_type": "code",
   "execution_count": null,
   "metadata": {
    "collapsed": true
   },
   "outputs": [],
   "source": []
  }
 ],
 "metadata": {
  "kernelspec": {
   "display_name": "Python 2",
   "language": "python",
   "name": "python2"
  },
  "language_info": {
   "codemirror_mode": {
    "name": "ipython",
    "version": 2
   },
   "file_extension": ".py",
   "mimetype": "text/x-python",
   "name": "python",
   "nbconvert_exporter": "python",
   "pygments_lexer": "ipython2",
   "version": "2.7.6"
  }
 },
 "nbformat": 4,
 "nbformat_minor": 0
}
