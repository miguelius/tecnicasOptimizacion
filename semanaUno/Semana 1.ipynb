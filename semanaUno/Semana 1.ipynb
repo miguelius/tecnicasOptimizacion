{
 "cells": [
  {
   "cell_type": "markdown",
   "metadata": {},
   "source": [
    "# Semana Uno\n",
    "\n",
    "En esta semana se introdujeron conceptos de programación y recursividad.\n",
    "\n",
    "Luego se presentó una solución para fibonacci usando recursividad y se presentó la técnica de programación dinámica.\n",
    "\n",
    "Se implementó fibonacci con dos enfoques programación dinámica: top - down y bottom up.\n"
   ]
  },
  {
   "cell_type": "code",
   "execution_count": 186,
   "metadata": {
    "collapsed": true
   },
   "outputs": [],
   "source": [
    "def fib(n):\n",
    "  if n == 0:\n",
    "    return 0\n",
    "  if n == 1:\n",
    "    return 1\n",
    "  return fib(n - 1) + fib(n - 2)\n"
   ]
  },
  {
   "cell_type": "code",
   "execution_count": 187,
   "metadata": {
    "collapsed": false
   },
   "outputs": [
    {
     "data": {
      "text/plain": [
       "[0, 1, 1, 2, 3, 5, 8, 13, 21, 34]"
      ]
     },
     "execution_count": 187,
     "metadata": {},
     "output_type": "execute_result"
    }
   ],
   "source": [
    "[fib(i) for i in range(10)]"
   ]
  },
  {
   "cell_type": "code",
   "execution_count": 188,
   "metadata": {
    "collapsed": false
   },
   "outputs": [],
   "source": [
    "def fibpd(n):\n",
    "  fibn = []\n",
    "  for i in range(n):\n",
    "    if i == 0:\n",
    "      fibn.append(0)\n",
    "    elif i == 1:\n",
    "      fibn.append(1)\n",
    "    else: \n",
    "      fibn.append(fibn[i - 1] + fibn[i - 2])\n",
    "  return fibn[n-1]"
   ]
  },
  {
   "cell_type": "code",
   "execution_count": 189,
   "metadata": {
    "collapsed": false
   },
   "outputs": [
    {
     "data": {
      "text/plain": [
       "34"
      ]
     },
     "execution_count": 189,
     "metadata": {},
     "output_type": "execute_result"
    }
   ],
   "source": [
    "fibpd(10)"
   ]
  },
  {
   "cell_type": "code",
   "execution_count": 190,
   "metadata": {
    "collapsed": false
   },
   "outputs": [],
   "source": [
    "G = [60,100,120]\n",
    "V = [10, 20, 30]\n",
    "M = 50\n",
    "\n",
    "def mochila(V,G,m,g,n):\n",
    "  if n == 0 or m == 0:\n",
    "    return 0\n",
    "  else:\n",
    "    if V[n-1] > m:\n",
    "      return mochila(V,G,m,g,n-1)\n",
    "    else:\n",
    "      return max(mochila(V,G,m-V[n-1],g,n-1) + G[n-1], mochila(V,G,m,g,n-1))\n",
    "    "
   ]
  },
  {
   "cell_type": "code",
   "execution_count": 191,
   "metadata": {
    "collapsed": false
   },
   "outputs": [
    {
     "data": {
      "text/plain": [
       "220"
      ]
     },
     "execution_count": 191,
     "metadata": {},
     "output_type": "execute_result"
    }
   ],
   "source": [
    "mochila(V,G,M,0,3)"
   ]
  },
  {
   "cell_type": "code",
   "execution_count": 195,
   "metadata": {
    "collapsed": false
   },
   "outputs": [],
   "source": [
    "def mochilaPDBU(V,G,m,g,n):\n",
    "  matriz = [[0 for x in range(n+1)] for y in range(m+1)] \n",
    "  for i in range(m+1):\n",
    "    for j in range(n+1):\n",
    "      if i == 0 or j == 0:\n",
    "        matriz[i][j] = 0\n",
    "      else:\n",
    "        if V[j-1] > i:\n",
    "          matriz[i][j] = matriz[i][j-1]\n",
    "        else:\n",
    "          matriz[i][j] = max(matriz[i-V[j-1]][j-1] + G[j-1], matriz[i][j-1])\n",
    "  return matriz[m][n]\n"
   ]
  },
  {
   "cell_type": "code",
   "execution_count": 196,
   "metadata": {
    "collapsed": false
   },
   "outputs": [
    {
     "data": {
      "text/plain": [
       "220"
      ]
     },
     "execution_count": 196,
     "metadata": {},
     "output_type": "execute_result"
    }
   ],
   "source": [
    "mochilaPDBU(V,G,M,0,3)"
   ]
  },
  {
   "cell_type": "code",
   "execution_count": null,
   "metadata": {
    "collapsed": true
   },
   "outputs": [],
   "source": []
  }
 ],
 "metadata": {
  "kernelspec": {
   "display_name": "Python 2",
   "language": "python",
   "name": "python2"
  },
  "language_info": {
   "codemirror_mode": {
    "name": "ipython",
    "version": 2
   },
   "file_extension": ".py",
   "mimetype": "text/x-python",
   "name": "python",
   "nbconvert_exporter": "python",
   "pygments_lexer": "ipython2",
   "version": "2.7.6"
  }
 },
 "nbformat": 4,
 "nbformat_minor": 0
}
